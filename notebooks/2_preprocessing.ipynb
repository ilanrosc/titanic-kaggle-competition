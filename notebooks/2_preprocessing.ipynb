{
 "cells": [
  {
   "cell_type": "code",
   "execution_count": 42,
   "metadata": {},
   "outputs": [],
   "source": [
    "import sys\n",
    "import os\n",
    "\n",
    "# Get the absolute path of the project root\n",
    "project_root = os.path.abspath(os.path.join(os.getcwd(), \"..\"))\n",
    "sys.path.append(project_root)  # Add the project root to Python path\n",
    "\n",
    "# Import reusable scripts\n",
    "from scripts.data_loader import load_data  # Load dataset\n",
    "from scripts.eda import summarize_data  # EDA functions\n",
    "from scripts.preprocessing import fill_missing_values  # Missing value imputation\n",
    "\n"
   ]
  },
  {
   "cell_type": "code",
   "execution_count": 47,
   "metadata": {},
   "outputs": [],
   "source": [
    "#Reload modules if any change was applied\n",
    "\n",
    "import importlib\n",
    "\n",
    "# import scripts.eda  # Ensure the module is recognized\n",
    "# importlib.reload(scripts.eda)  # Force reload\n",
    "\n",
    "import scripts.preprocessing\n",
    "importlib.reload(scripts.preprocessing)  # Force reload\n",
    "\n",
    "#Now, import the updated functions\n",
    "\n",
    "from scripts.eda import summarize_data\n",
    "from scripts.preprocessing import fill_missing_values"
   ]
  },
  {
   "cell_type": "code",
   "execution_count": 48,
   "metadata": {},
   "outputs": [
    {
     "name": "stdout",
     "output_type": "stream",
     "text": [
      "📌 Dataset Info:\n",
      "<class 'pandas.core.frame.DataFrame'>\n",
      "RangeIndex: 891 entries, 0 to 890\n",
      "Data columns (total 14 columns):\n",
      " #   Column       Non-Null Count  Dtype  \n",
      "---  ------       --------------  -----  \n",
      " 0   PassengerId  891 non-null    int64  \n",
      " 1   Survived     891 non-null    int64  \n",
      " 2   Pclass       891 non-null    int64  \n",
      " 3   Name         891 non-null    object \n",
      " 4   Sex          891 non-null    object \n",
      " 5   Age          714 non-null    float64\n",
      " 6   SibSp        891 non-null    int64  \n",
      " 7   Parch        891 non-null    int64  \n",
      " 8   Ticket       891 non-null    object \n",
      " 9   Fare         891 non-null    float64\n",
      " 10  Cabin        204 non-null    object \n",
      " 11  Embarked     889 non-null    object \n",
      " 12  Title        891 non-null    object \n",
      " 13  FamilySize   891 non-null    int64  \n",
      "dtypes: float64(2), int64(6), object(6)\n",
      "memory usage: 97.6+ KB\n",
      "--------------------------------------------------\n",
      "\n",
      "📌 Missing Values:\n",
      "Age         177\n",
      "Cabin       687\n",
      "Embarked      2\n",
      "dtype: int64\n",
      "--------------------------------------------------\n"
     ]
    }
   ],
   "source": [
    "\n",
    "# 🔹 Step 1: Load Data and Data Quality Assessment\n",
    "\n",
    "df = load_data(data_path=\"../data/processed\",filename=\"train_eda.csv\") \n",
    "df.head()\n",
    "summarize_data(df,  show=('isnull', 'info'))"
   ]
  },
  {
   "cell_type": "markdown",
   "metadata": {},
   "source": [
    "Strategy:\n",
    "\n",
    "* Median Imputation: Fill missing values with the median.\n",
    "* Predictive Imputation: Build a regression model to refine imputation based on features like Pclass, Title, and Fare."
   ]
  },
  {
   "cell_type": "code",
   "execution_count": 49,
   "metadata": {},
   "outputs": [
    {
     "name": "stdout",
     "output_type": "stream",
     "text": [
      "✅ Missing values in 'Age' initially filled with median.\n",
      "✅ Missing 'Age' values refined using predictive imputation.\n",
      "\n",
      "📌 Missing Values:\n",
      "Cabin       687\n",
      "Embarked      2\n",
      "dtype: int64\n",
      "--------------------------------------------------\n"
     ]
    }
   ],
   "source": [
    "# 🔹 Step 2: Handle Missing Values\n",
    "\n",
    "\n",
    "# Handle Missing Values for Age (Hybrid Approach)\n",
    "\n",
    "# Step 1: Fill missing 'Age' with median to reduce model bias\n",
    "df = fill_missing_values(df, num_strategy=\"median\", columns=[\"Age\"])\n",
    "print(\"✅ Missing values in 'Age' initially filled with median.\")\n",
    "\n",
    "# Step 2: Refine 'Age' values using Predictive Imputation based on related features\n",
    "df = fill_missing_values(df, num_strategy=\"predictive\", columns=[\"Age\"])\n",
    "print(\"✅ Missing 'Age' values refined using predictive imputation.\")\n",
    "\n",
    "summarize_data(df,  show=('isnull'))"
   ]
  },
  {
   "cell_type": "code",
   "execution_count": 50,
   "metadata": {},
   "outputs": [
    {
     "name": "stdout",
     "output_type": "stream",
     "text": [
      "✅ Missing 'Embarked' values filled using mode imputation.\n",
      "\n",
      "📌 Missing Values:\n",
      "Cabin    687\n",
      "dtype: int64\n",
      "--------------------------------------------------\n"
     ]
    }
   ],
   "source": [
    "# Handle Missing Values for Embarked (Mode Imputation)\n",
    "\n",
    "df = fill_missing_values(df, cat_strategy=\"mode\", columns=[\"Embarked\"])\n",
    "print(\"✅ Missing 'Embarked' values filled using mode imputation.\")\n",
    "\n",
    "summarize_data(df,  show=('isnull'))"
   ]
  },
  {
   "cell_type": "code",
   "execution_count": 51,
   "metadata": {},
   "outputs": [
    {
     "name": "stdout",
     "output_type": "stream",
     "text": [
      "✅ Created 'Cabin_Missing' indicator. Missing count: 687\n",
      "✅ Dropped 'Cabin' column due to high missing rate.\n",
      "\n",
      "📌 Missing Values:\n",
      "No missing values.\n",
      "--------------------------------------------------\n"
     ]
    }
   ],
   "source": [
    "# Handle Missing Values for Cabin\n",
    "\n",
    "# Create a binary indicator for missing 'Cabin'\n",
    "df['Cabin_Missing'] = df['Cabin'].isna().astype(int)\n",
    "print(f\"✅ Created 'Cabin_Missing' indicator. Missing count: {df['Cabin_Missing'].sum()}\")\n",
    "\n",
    "# Drop the original 'Cabin' column due to high missing rate\n",
    "df.drop(columns=['Cabin'], inplace=True)\n",
    "print(\"✅ Dropped 'Cabin' column due to high missing rate.\")\n",
    "summarize_data(df,  show=('isnull'))"
   ]
  },
  {
   "cell_type": "code",
   "execution_count": 53,
   "metadata": {},
   "outputs": [
    {
     "name": "stdout",
     "output_type": "stream",
     "text": [
      "\n",
      "📊 **Remaining Missing Values Summary:**\n",
      "📌 Dataset Info:\n",
      "<class 'pandas.core.frame.DataFrame'>\n",
      "RangeIndex: 891 entries, 0 to 890\n",
      "Data columns (total 14 columns):\n",
      " #   Column         Non-Null Count  Dtype  \n",
      "---  ------         --------------  -----  \n",
      " 0   PassengerId    891 non-null    int64  \n",
      " 1   Survived       891 non-null    int64  \n",
      " 2   Pclass         891 non-null    int64  \n",
      " 3   Name           891 non-null    object \n",
      " 4   Sex            891 non-null    object \n",
      " 5   Age            891 non-null    float64\n",
      " 6   SibSp          891 non-null    int64  \n",
      " 7   Parch          891 non-null    int64  \n",
      " 8   Ticket         891 non-null    object \n",
      " 9   Fare           891 non-null    float64\n",
      " 10  Embarked       891 non-null    object \n",
      " 11  Title          891 non-null    object \n",
      " 12  FamilySize     891 non-null    int64  \n",
      " 13  Cabin_Missing  891 non-null    int32  \n",
      "dtypes: float64(2), int32(1), int64(6), object(5)\n",
      "memory usage: 94.1+ KB\n",
      "--------------------------------------------------\n",
      "\n",
      "📌 Missing Values:\n",
      "No missing values.\n",
      "--------------------------------------------------\n"
     ]
    }
   ],
   "source": [
    "# Check for remaining missing values\n",
    "print(\"\\n📊 **Remaining Missing Values Summary:**\")\n",
    "summarize_data(df,  show=('isnull', 'info'))"
   ]
  },
  {
   "cell_type": "code",
   "execution_count": null,
   "metadata": {},
   "outputs": [],
   "source": []
  }
 ],
 "metadata": {
  "kernelspec": {
   "display_name": "base",
   "language": "python",
   "name": "python3"
  },
  "language_info": {
   "codemirror_mode": {
    "name": "ipython",
    "version": 3
   },
   "file_extension": ".py",
   "mimetype": "text/x-python",
   "name": "python",
   "nbconvert_exporter": "python",
   "pygments_lexer": "ipython3",
   "version": "3.12.7"
  }
 },
 "nbformat": 4,
 "nbformat_minor": 2
}
